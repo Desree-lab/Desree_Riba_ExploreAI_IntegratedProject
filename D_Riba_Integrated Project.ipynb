{
 "cells": [
  {
   "cell_type": "code",
   "execution_count": 151,
   "id": "51ca614f",
   "metadata": {},
   "outputs": [],
   "source": [
    "import numpy as np\n",
    "import pandas as pd\n",
    "import matplotlib.pyplot as plt\n",
    "import seaborn as sns\n",
    "from matplotlib import rc\n",
    "\n",
    "%matplotlib inline\n",
    "\n",
    "\n",
    "import warnings\n",
    "warnings.filterwarnings('ignore')"
   ]
  },
  {
   "cell_type": "code",
   "execution_count": 152,
   "id": "43f9fc0e",
   "metadata": {},
   "outputs": [],
   "source": [
    "df = pd.read_csv(r'C:\\Users\\F5184053\\OneDrive - FRG\\Personal\\Explore AI\\08. Intergrated Project/CAKE ORDERS Data.csv').dropna()"
   ]
  },
  {
   "cell_type": "code",
   "execution_count": 153,
   "id": "aef95210",
   "metadata": {},
   "outputs": [
    {
     "data": {
      "text/html": [
       "<div>\n",
       "<style scoped>\n",
       "    .dataframe tbody tr th:only-of-type {\n",
       "        vertical-align: middle;\n",
       "    }\n",
       "\n",
       "    .dataframe tbody tr th {\n",
       "        vertical-align: top;\n",
       "    }\n",
       "\n",
       "    .dataframe thead th {\n",
       "        text-align: right;\n",
       "    }\n",
       "</style>\n",
       "<table border=\"1\" class=\"dataframe\">\n",
       "  <thead>\n",
       "    <tr style=\"text-align: right;\">\n",
       "      <th></th>\n",
       "      <th>OCCASION</th>\n",
       "      <th>SIZE</th>\n",
       "      <th>Type</th>\n",
       "      <th>Theme</th>\n",
       "      <th>Icing</th>\n",
       "      <th>Flavour</th>\n",
       "      <th>Colour</th>\n",
       "      <th>Topping</th>\n",
       "      <th>PRICE</th>\n",
       "      <th>Collection Date</th>\n",
       "      <th>Cost</th>\n",
       "    </tr>\n",
       "  </thead>\n",
       "  <tbody>\n",
       "    <tr>\n",
       "      <th>0</th>\n",
       "      <td>Birthday - 1</td>\n",
       "      <td>15cm</td>\n",
       "      <td>Square</td>\n",
       "      <td>Princess</td>\n",
       "      <td>Fondant</td>\n",
       "      <td>Vanilla</td>\n",
       "      <td>Pink</td>\n",
       "      <td>Baby Elephant</td>\n",
       "      <td>200.0</td>\n",
       "      <td>2023/01/26</td>\n",
       "      <td>103.0</td>\n",
       "    </tr>\n",
       "    <tr>\n",
       "      <th>1</th>\n",
       "      <td>Birthday - 1</td>\n",
       "      <td>15cm</td>\n",
       "      <td>Round</td>\n",
       "      <td>None</td>\n",
       "      <td>Fondant</td>\n",
       "      <td>Chocolate</td>\n",
       "      <td>Nude</td>\n",
       "      <td>Happy Birthday</td>\n",
       "      <td>200.0</td>\n",
       "      <td>2023/08/31</td>\n",
       "      <td>118.0</td>\n",
       "    </tr>\n",
       "    <tr>\n",
       "      <th>2</th>\n",
       "      <td>Birthday - 1</td>\n",
       "      <td>15cm</td>\n",
       "      <td>Round</td>\n",
       "      <td>Princess</td>\n",
       "      <td>Fondant</td>\n",
       "      <td>Chocolate</td>\n",
       "      <td>Pink</td>\n",
       "      <td>Happy 1st Birthday</td>\n",
       "      <td>200.0</td>\n",
       "      <td>2023/09/17</td>\n",
       "      <td>118.0</td>\n",
       "    </tr>\n",
       "    <tr>\n",
       "      <th>3</th>\n",
       "      <td>Birthday - 1</td>\n",
       "      <td>15cm</td>\n",
       "      <td>Round</td>\n",
       "      <td>Princess</td>\n",
       "      <td>Fondant</td>\n",
       "      <td>Lemon</td>\n",
       "      <td>Pink</td>\n",
       "      <td>Happy 1st Birthday</td>\n",
       "      <td>200.0</td>\n",
       "      <td>2023/09/30</td>\n",
       "      <td>142.0</td>\n",
       "    </tr>\n",
       "    <tr>\n",
       "      <th>4</th>\n",
       "      <td>Birthday - 1</td>\n",
       "      <td>2 step</td>\n",
       "      <td>1 Square 1 Round</td>\n",
       "      <td>None</td>\n",
       "      <td>Fondant</td>\n",
       "      <td>Chocolate</td>\n",
       "      <td>Blue</td>\n",
       "      <td>One</td>\n",
       "      <td>600.0</td>\n",
       "      <td>2023/03/15</td>\n",
       "      <td>450.0</td>\n",
       "    </tr>\n",
       "  </tbody>\n",
       "</table>\n",
       "</div>"
      ],
      "text/plain": [
       "       OCCASION    SIZE              Type     Theme    Icing    Flavour  \\\n",
       "0  Birthday - 1    15cm            Square  Princess  Fondant    Vanilla   \n",
       "1  Birthday - 1    15cm             Round      None  Fondant  Chocolate   \n",
       "2  Birthday - 1    15cm             Round  Princess  Fondant  Chocolate   \n",
       "3  Birthday - 1    15cm             Round  Princess  Fondant      Lemon   \n",
       "4  Birthday - 1  2 step  1 Square 1 Round      None  Fondant  Chocolate   \n",
       "\n",
       "  Colour             Topping  PRICE Collection Date   Cost  \n",
       "0   Pink       Baby Elephant  200.0      2023/01/26  103.0  \n",
       "1   Nude      Happy Birthday  200.0      2023/08/31  118.0  \n",
       "2   Pink  Happy 1st Birthday  200.0      2023/09/17  118.0  \n",
       "3   Pink  Happy 1st Birthday  200.0      2023/09/30  142.0  \n",
       "4   Blue                 One  600.0      2023/03/15  450.0  "
      ]
     },
     "execution_count": 153,
     "metadata": {},
     "output_type": "execute_result"
    }
   ],
   "source": [
    "df.head()"
   ]
  },
  {
   "cell_type": "code",
   "execution_count": 154,
   "id": "c6d39e08",
   "metadata": {},
   "outputs": [
    {
     "name": "stdout",
     "output_type": "stream",
     "text": [
      "<class 'pandas.core.frame.DataFrame'>\n",
      "RangeIndex: 83 entries, 0 to 82\n",
      "Data columns (total 11 columns):\n",
      " #   Column           Non-Null Count  Dtype  \n",
      "---  ------           --------------  -----  \n",
      " 0   OCCASION         83 non-null     object \n",
      " 1   SIZE             83 non-null     object \n",
      " 2   Type             83 non-null     object \n",
      " 3   Theme            83 non-null     object \n",
      " 4   Icing            83 non-null     object \n",
      " 5   Flavour          83 non-null     object \n",
      " 6   Colour           83 non-null     object \n",
      " 7   Topping          83 non-null     object \n",
      " 8   PRICE            83 non-null     float64\n",
      " 9   Collection Date  83 non-null     object \n",
      " 10  Cost             83 non-null     float64\n",
      "dtypes: float64(2), object(9)\n",
      "memory usage: 7.3+ KB\n"
     ]
    }
   ],
   "source": [
    "df.info()"
   ]
  },
  {
   "cell_type": "markdown",
   "id": "5000257c",
   "metadata": {},
   "source": [
    "# **The OCCASION COLUMN**"
   ]
  },
  {
   "cell_type": "code",
   "execution_count": 155,
   "id": "57b341c3",
   "metadata": {},
   "outputs": [
    {
     "name": "stdout",
     "output_type": "stream",
     "text": [
      "['Birthday - 1' 'Baby Shower' 'Bridal Shower' 'Birthday - 32'\n",
      " 'Birthday - 5' 'Birthday - 3' 'Birthday - 2' 'Birthday - 40'\n",
      " 'Birthday - 35' 'Birthday - 28' 'Birthday - 12' 'Birthday - 9'\n",
      " 'Birthday - 10' 'Birthday - 4' 'Birthday - 8' 'Birthday - 25'\n",
      " 'Birthday - 30' 'Graduation' 'Birthday - 21' 'Birthday - 33'\n",
      " 'Birthday - 16' 'Birthday - 50' 'Birthday - 13' 'Birthday - 80'\n",
      " 'House Warming' 'Wedding']\n"
     ]
    }
   ],
   "source": [
    "print(df['OCCASION'].unique())"
   ]
  },
  {
   "cell_type": "markdown",
   "id": "17b34651",
   "metadata": {},
   "source": [
    "**The occations column can be cleaned up a bit by only having the occations and creating a new column for the ages**\n"
   ]
  },
  {
   "cell_type": "code",
   "execution_count": 156,
   "id": "a7065758",
   "metadata": {},
   "outputs": [
    {
     "data": {
      "text/html": [
       "<div>\n",
       "<style scoped>\n",
       "    .dataframe tbody tr th:only-of-type {\n",
       "        vertical-align: middle;\n",
       "    }\n",
       "\n",
       "    .dataframe tbody tr th {\n",
       "        vertical-align: top;\n",
       "    }\n",
       "\n",
       "    .dataframe thead th {\n",
       "        text-align: right;\n",
       "    }\n",
       "</style>\n",
       "<table border=\"1\" class=\"dataframe\">\n",
       "  <thead>\n",
       "    <tr style=\"text-align: right;\">\n",
       "      <th></th>\n",
       "      <th>OCCASION</th>\n",
       "      <th>SIZE</th>\n",
       "      <th>Type</th>\n",
       "      <th>Theme</th>\n",
       "      <th>Icing</th>\n",
       "      <th>Flavour</th>\n",
       "      <th>Colour</th>\n",
       "      <th>Topping</th>\n",
       "      <th>PRICE</th>\n",
       "      <th>Collection Date</th>\n",
       "      <th>Cost</th>\n",
       "      <th>YEAR CELEBRATING</th>\n",
       "    </tr>\n",
       "  </thead>\n",
       "  <tbody>\n",
       "    <tr>\n",
       "      <th>0</th>\n",
       "      <td>Birthday</td>\n",
       "      <td>15cm</td>\n",
       "      <td>Square</td>\n",
       "      <td>Princess</td>\n",
       "      <td>Fondant</td>\n",
       "      <td>Vanilla</td>\n",
       "      <td>Pink</td>\n",
       "      <td>Baby Elephant</td>\n",
       "      <td>200.0</td>\n",
       "      <td>2023/01/26</td>\n",
       "      <td>103.0</td>\n",
       "      <td>1</td>\n",
       "    </tr>\n",
       "    <tr>\n",
       "      <th>1</th>\n",
       "      <td>Birthday</td>\n",
       "      <td>15cm</td>\n",
       "      <td>Round</td>\n",
       "      <td>None</td>\n",
       "      <td>Fondant</td>\n",
       "      <td>Chocolate</td>\n",
       "      <td>Nude</td>\n",
       "      <td>Happy Birthday</td>\n",
       "      <td>200.0</td>\n",
       "      <td>2023/08/31</td>\n",
       "      <td>118.0</td>\n",
       "      <td>1</td>\n",
       "    </tr>\n",
       "    <tr>\n",
       "      <th>2</th>\n",
       "      <td>Birthday</td>\n",
       "      <td>15cm</td>\n",
       "      <td>Round</td>\n",
       "      <td>Princess</td>\n",
       "      <td>Fondant</td>\n",
       "      <td>Chocolate</td>\n",
       "      <td>Pink</td>\n",
       "      <td>Happy 1st Birthday</td>\n",
       "      <td>200.0</td>\n",
       "      <td>2023/09/17</td>\n",
       "      <td>118.0</td>\n",
       "      <td>1</td>\n",
       "    </tr>\n",
       "    <tr>\n",
       "      <th>3</th>\n",
       "      <td>Birthday</td>\n",
       "      <td>15cm</td>\n",
       "      <td>Round</td>\n",
       "      <td>Princess</td>\n",
       "      <td>Fondant</td>\n",
       "      <td>Lemon</td>\n",
       "      <td>Pink</td>\n",
       "      <td>Happy 1st Birthday</td>\n",
       "      <td>200.0</td>\n",
       "      <td>2023/09/30</td>\n",
       "      <td>142.0</td>\n",
       "      <td>1</td>\n",
       "    </tr>\n",
       "    <tr>\n",
       "      <th>4</th>\n",
       "      <td>Birthday</td>\n",
       "      <td>2 step</td>\n",
       "      <td>1 Square 1 Round</td>\n",
       "      <td>None</td>\n",
       "      <td>Fondant</td>\n",
       "      <td>Chocolate</td>\n",
       "      <td>Blue</td>\n",
       "      <td>One</td>\n",
       "      <td>600.0</td>\n",
       "      <td>2023/03/15</td>\n",
       "      <td>450.0</td>\n",
       "      <td>1</td>\n",
       "    </tr>\n",
       "  </tbody>\n",
       "</table>\n",
       "</div>"
      ],
      "text/plain": [
       "    OCCASION    SIZE              Type     Theme    Icing    Flavour Colour  \\\n",
       "0  Birthday     15cm            Square  Princess  Fondant    Vanilla   Pink   \n",
       "1  Birthday     15cm             Round      None  Fondant  Chocolate   Nude   \n",
       "2  Birthday     15cm             Round  Princess  Fondant  Chocolate   Pink   \n",
       "3  Birthday     15cm             Round  Princess  Fondant      Lemon   Pink   \n",
       "4  Birthday   2 step  1 Square 1 Round      None  Fondant  Chocolate   Blue   \n",
       "\n",
       "              Topping  PRICE Collection Date   Cost YEAR CELEBRATING  \n",
       "0       Baby Elephant  200.0      2023/01/26  103.0                1  \n",
       "1      Happy Birthday  200.0      2023/08/31  118.0                1  \n",
       "2  Happy 1st Birthday  200.0      2023/09/17  118.0                1  \n",
       "3  Happy 1st Birthday  200.0      2023/09/30  142.0                1  \n",
       "4                 One  600.0      2023/03/15  450.0                1  "
      ]
     },
     "execution_count": 156,
     "metadata": {},
     "output_type": "execute_result"
    }
   ],
   "source": [
    "df[['OCCASION','YEAR CELEBRATING']] = df['OCCASION'].str.split('-',2,expand = True)\n",
    "\n",
    "df.head()"
   ]
  },
  {
   "cell_type": "code",
   "execution_count": 157,
   "id": "b078b2a5",
   "metadata": {},
   "outputs": [
    {
     "name": "stdout",
     "output_type": "stream",
     "text": [
      "['Birthday ' 'Baby Shower' 'Bridal Shower' 'Graduation' 'House Warming'\n",
      " 'Wedding']\n"
     ]
    }
   ],
   "source": [
    "print(df['OCCASION'].unique())"
   ]
  },
  {
   "cell_type": "markdown",
   "id": "78c056e4",
   "metadata": {},
   "source": [
    "# **The Size Column**"
   ]
  },
  {
   "cell_type": "code",
   "execution_count": 158,
   "id": "01406f30",
   "metadata": {},
   "outputs": [
    {
     "name": "stdout",
     "output_type": "stream",
     "text": [
      "['15cm' '2 step' '20 cm' '20cm' '25cm' '30 cm' '30cm' '25 cm' '2steps'\n",
      " '3 step' '3steps' '50cm' 'Bunch' '5step']\n"
     ]
    }
   ],
   "source": [
    "print(df['SIZE'].unique())"
   ]
  },
  {
   "cell_type": "markdown",
   "id": "cecd3479",
   "metadata": {},
   "source": [
    "**A few inconsistancies in the sizes:**\n",
    "   **1 - different measurements\n",
    "   2 - different spellings for the same word\n",
    "   3 - spaces after the numbers**"
   ]
  },
  {
   "cell_type": "code",
   "execution_count": 159,
   "id": "66397f09",
   "metadata": {},
   "outputs": [
    {
     "data": {
      "text/html": [
       "<div>\n",
       "<style scoped>\n",
       "    .dataframe tbody tr th:only-of-type {\n",
       "        vertical-align: middle;\n",
       "    }\n",
       "\n",
       "    .dataframe tbody tr th {\n",
       "        vertical-align: top;\n",
       "    }\n",
       "\n",
       "    .dataframe thead th {\n",
       "        text-align: right;\n",
       "    }\n",
       "</style>\n",
       "<table border=\"1\" class=\"dataframe\">\n",
       "  <thead>\n",
       "    <tr style=\"text-align: right;\">\n",
       "      <th></th>\n",
       "      <th>OCCASION</th>\n",
       "      <th>SIZE</th>\n",
       "      <th>Type</th>\n",
       "      <th>Theme</th>\n",
       "      <th>Icing</th>\n",
       "      <th>Flavour</th>\n",
       "      <th>Colour</th>\n",
       "      <th>Topping</th>\n",
       "      <th>PRICE</th>\n",
       "      <th>Collection Date</th>\n",
       "      <th>Cost</th>\n",
       "      <th>YEAR CELEBRATING</th>\n",
       "    </tr>\n",
       "  </thead>\n",
       "  <tbody>\n",
       "    <tr>\n",
       "      <th>0</th>\n",
       "      <td>Birthday</td>\n",
       "      <td>15cm</td>\n",
       "      <td>Square</td>\n",
       "      <td>Princess</td>\n",
       "      <td>Fondant</td>\n",
       "      <td>Vanilla</td>\n",
       "      <td>Pink</td>\n",
       "      <td>Baby Elephant</td>\n",
       "      <td>200.0</td>\n",
       "      <td>2023/01/26</td>\n",
       "      <td>103.0</td>\n",
       "      <td>1</td>\n",
       "    </tr>\n",
       "    <tr>\n",
       "      <th>1</th>\n",
       "      <td>Birthday</td>\n",
       "      <td>15cm</td>\n",
       "      <td>Round</td>\n",
       "      <td>None</td>\n",
       "      <td>Fondant</td>\n",
       "      <td>Chocolate</td>\n",
       "      <td>Nude</td>\n",
       "      <td>Happy Birthday</td>\n",
       "      <td>200.0</td>\n",
       "      <td>2023/08/31</td>\n",
       "      <td>118.0</td>\n",
       "      <td>1</td>\n",
       "    </tr>\n",
       "    <tr>\n",
       "      <th>2</th>\n",
       "      <td>Birthday</td>\n",
       "      <td>15cm</td>\n",
       "      <td>Round</td>\n",
       "      <td>Princess</td>\n",
       "      <td>Fondant</td>\n",
       "      <td>Chocolate</td>\n",
       "      <td>Pink</td>\n",
       "      <td>Happy 1st Birthday</td>\n",
       "      <td>200.0</td>\n",
       "      <td>2023/09/17</td>\n",
       "      <td>118.0</td>\n",
       "      <td>1</td>\n",
       "    </tr>\n",
       "    <tr>\n",
       "      <th>3</th>\n",
       "      <td>Birthday</td>\n",
       "      <td>15cm</td>\n",
       "      <td>Round</td>\n",
       "      <td>Princess</td>\n",
       "      <td>Fondant</td>\n",
       "      <td>Lemon</td>\n",
       "      <td>Pink</td>\n",
       "      <td>Happy 1st Birthday</td>\n",
       "      <td>200.0</td>\n",
       "      <td>2023/09/30</td>\n",
       "      <td>142.0</td>\n",
       "      <td>1</td>\n",
       "    </tr>\n",
       "    <tr>\n",
       "      <th>4</th>\n",
       "      <td>Birthday</td>\n",
       "      <td>2step</td>\n",
       "      <td>1 Square 1 Round</td>\n",
       "      <td>None</td>\n",
       "      <td>Fondant</td>\n",
       "      <td>Chocolate</td>\n",
       "      <td>Blue</td>\n",
       "      <td>One</td>\n",
       "      <td>600.0</td>\n",
       "      <td>2023/03/15</td>\n",
       "      <td>450.0</td>\n",
       "      <td>1</td>\n",
       "    </tr>\n",
       "  </tbody>\n",
       "</table>\n",
       "</div>"
      ],
      "text/plain": [
       "    OCCASION   SIZE              Type     Theme    Icing    Flavour Colour  \\\n",
       "0  Birthday    15cm            Square  Princess  Fondant    Vanilla   Pink   \n",
       "1  Birthday    15cm             Round      None  Fondant  Chocolate   Nude   \n",
       "2  Birthday    15cm             Round  Princess  Fondant  Chocolate   Pink   \n",
       "3  Birthday    15cm             Round  Princess  Fondant      Lemon   Pink   \n",
       "4  Birthday   2step  1 Square 1 Round      None  Fondant  Chocolate   Blue   \n",
       "\n",
       "              Topping  PRICE Collection Date   Cost YEAR CELEBRATING  \n",
       "0       Baby Elephant  200.0      2023/01/26  103.0                1  \n",
       "1      Happy Birthday  200.0      2023/08/31  118.0                1  \n",
       "2  Happy 1st Birthday  200.0      2023/09/17  118.0                1  \n",
       "3  Happy 1st Birthday  200.0      2023/09/30  142.0                1  \n",
       "4                 One  600.0      2023/03/15  450.0                1  "
      ]
     },
     "execution_count": 159,
     "metadata": {},
     "output_type": "execute_result"
    }
   ],
   "source": [
    "df['SIZE'] = df['SIZE'].str.replace(' ','')\n",
    "df['SIZE'] = df['SIZE'].str.replace('steps','step')\n",
    "\n",
    "df.head()"
   ]
  },
  {
   "cell_type": "code",
   "execution_count": 160,
   "id": "e560d263",
   "metadata": {},
   "outputs": [
    {
     "name": "stdout",
     "output_type": "stream",
     "text": [
      "['15cm' '2step' '20cm' '25cm' '30cm' '3step' '50cm' 'Bunch' '5step']\n"
     ]
    }
   ],
   "source": [
    "print(df['SIZE'].unique())"
   ]
  },
  {
   "cell_type": "markdown",
   "id": "5be41743",
   "metadata": {},
   "source": [
    "# The Type Column"
   ]
  },
  {
   "cell_type": "code",
   "execution_count": 161,
   "id": "c7b0766f",
   "metadata": {},
   "outputs": [
    {
     "name": "stdout",
     "output_type": "stream",
     "text": [
      "['Square' 'Round' '1 Square 1 Round' 'character' '1 Square 2 Round'\n",
      " 'Bunch']\n"
     ]
    }
   ],
   "source": [
    "print(df['Type'].unique())"
   ]
  },
  {
   "cell_type": "markdown",
   "id": "088de736",
   "metadata": {},
   "source": [
    "# **The Icing Column**"
   ]
  },
  {
   "cell_type": "code",
   "execution_count": 162,
   "id": "5deaaaf7",
   "metadata": {},
   "outputs": [
    {
     "name": "stdout",
     "output_type": "stream",
     "text": [
      "['Fondant' 'Naked' 'Buttercream']\n"
     ]
    }
   ],
   "source": [
    "print(df['Icing'].unique())"
   ]
  },
  {
   "cell_type": "markdown",
   "id": "7700a019",
   "metadata": {},
   "source": [
    "# **The Flavour Column**"
   ]
  },
  {
   "cell_type": "code",
   "execution_count": 163,
   "id": "d02f21e5",
   "metadata": {},
   "outputs": [
    {
     "name": "stdout",
     "output_type": "stream",
     "text": [
      "['Vanilla' 'Chocolate' 'Lemon' 'Red Velvet' 'Carrot'\n",
      " '1 Vanilla 1 Chocolate' '1 Red Velvet 1 Carrot 1 Lemon' 'Lemon Carrot'\n",
      " '2Lemon 2 Carrot 1 Vanilla' '2 Lemon 3 Vanilla'\n",
      " '2Red velvet 2 Carrot 1 Vanilla' '2Chocolate 1 Red Velvet 2 Carrot']\n"
     ]
    }
   ],
   "source": [
    "print(df['Flavour'].unique())"
   ]
  },
  {
   "cell_type": "markdown",
   "id": "a87b525d",
   "metadata": {},
   "source": [
    "**Removing digits from the flavours to form one flavour and making them one word**"
   ]
  },
  {
   "cell_type": "code",
   "execution_count": 164,
   "id": "3956a13d",
   "metadata": {},
   "outputs": [
    {
     "data": {
      "text/html": [
       "<div>\n",
       "<style scoped>\n",
       "    .dataframe tbody tr th:only-of-type {\n",
       "        vertical-align: middle;\n",
       "    }\n",
       "\n",
       "    .dataframe tbody tr th {\n",
       "        vertical-align: top;\n",
       "    }\n",
       "\n",
       "    .dataframe thead th {\n",
       "        text-align: right;\n",
       "    }\n",
       "</style>\n",
       "<table border=\"1\" class=\"dataframe\">\n",
       "  <thead>\n",
       "    <tr style=\"text-align: right;\">\n",
       "      <th></th>\n",
       "      <th>OCCASION</th>\n",
       "      <th>SIZE</th>\n",
       "      <th>Type</th>\n",
       "      <th>Theme</th>\n",
       "      <th>Icing</th>\n",
       "      <th>Flavour</th>\n",
       "      <th>Colour</th>\n",
       "      <th>Topping</th>\n",
       "      <th>PRICE</th>\n",
       "      <th>Collection Date</th>\n",
       "      <th>Cost</th>\n",
       "      <th>YEAR CELEBRATING</th>\n",
       "    </tr>\n",
       "  </thead>\n",
       "  <tbody>\n",
       "    <tr>\n",
       "      <th>0</th>\n",
       "      <td>Birthday</td>\n",
       "      <td>15cm</td>\n",
       "      <td>Square</td>\n",
       "      <td>Princess</td>\n",
       "      <td>Fondant</td>\n",
       "      <td>vanilla</td>\n",
       "      <td>Pink</td>\n",
       "      <td>Baby Elephant</td>\n",
       "      <td>200.0</td>\n",
       "      <td>2023/01/26</td>\n",
       "      <td>103.0</td>\n",
       "      <td>1</td>\n",
       "    </tr>\n",
       "    <tr>\n",
       "      <th>1</th>\n",
       "      <td>Birthday</td>\n",
       "      <td>15cm</td>\n",
       "      <td>Round</td>\n",
       "      <td>None</td>\n",
       "      <td>Fondant</td>\n",
       "      <td>chocolate</td>\n",
       "      <td>Nude</td>\n",
       "      <td>Happy Birthday</td>\n",
       "      <td>200.0</td>\n",
       "      <td>2023/08/31</td>\n",
       "      <td>118.0</td>\n",
       "      <td>1</td>\n",
       "    </tr>\n",
       "    <tr>\n",
       "      <th>2</th>\n",
       "      <td>Birthday</td>\n",
       "      <td>15cm</td>\n",
       "      <td>Round</td>\n",
       "      <td>Princess</td>\n",
       "      <td>Fondant</td>\n",
       "      <td>chocolate</td>\n",
       "      <td>Pink</td>\n",
       "      <td>Happy 1st Birthday</td>\n",
       "      <td>200.0</td>\n",
       "      <td>2023/09/17</td>\n",
       "      <td>118.0</td>\n",
       "      <td>1</td>\n",
       "    </tr>\n",
       "    <tr>\n",
       "      <th>3</th>\n",
       "      <td>Birthday</td>\n",
       "      <td>15cm</td>\n",
       "      <td>Round</td>\n",
       "      <td>Princess</td>\n",
       "      <td>Fondant</td>\n",
       "      <td>lemon</td>\n",
       "      <td>Pink</td>\n",
       "      <td>Happy 1st Birthday</td>\n",
       "      <td>200.0</td>\n",
       "      <td>2023/09/30</td>\n",
       "      <td>142.0</td>\n",
       "      <td>1</td>\n",
       "    </tr>\n",
       "    <tr>\n",
       "      <th>4</th>\n",
       "      <td>Birthday</td>\n",
       "      <td>2step</td>\n",
       "      <td>1 Square 1 Round</td>\n",
       "      <td>None</td>\n",
       "      <td>Fondant</td>\n",
       "      <td>chocolate</td>\n",
       "      <td>Blue</td>\n",
       "      <td>One</td>\n",
       "      <td>600.0</td>\n",
       "      <td>2023/03/15</td>\n",
       "      <td>450.0</td>\n",
       "      <td>1</td>\n",
       "    </tr>\n",
       "  </tbody>\n",
       "</table>\n",
       "</div>"
      ],
      "text/plain": [
       "    OCCASION   SIZE              Type     Theme    Icing    Flavour Colour  \\\n",
       "0  Birthday    15cm            Square  Princess  Fondant    vanilla   Pink   \n",
       "1  Birthday    15cm             Round      None  Fondant  chocolate   Nude   \n",
       "2  Birthday    15cm             Round  Princess  Fondant  chocolate   Pink   \n",
       "3  Birthday    15cm             Round  Princess  Fondant      lemon   Pink   \n",
       "4  Birthday   2step  1 Square 1 Round      None  Fondant  chocolate   Blue   \n",
       "\n",
       "              Topping  PRICE Collection Date   Cost YEAR CELEBRATING  \n",
       "0       Baby Elephant  200.0      2023/01/26  103.0                1  \n",
       "1      Happy Birthday  200.0      2023/08/31  118.0                1  \n",
       "2  Happy 1st Birthday  200.0      2023/09/17  118.0                1  \n",
       "3  Happy 1st Birthday  200.0      2023/09/30  142.0                1  \n",
       "4                 One  600.0      2023/03/15  450.0                1  "
      ]
     },
     "execution_count": 164,
     "metadata": {},
     "output_type": "execute_result"
    }
   ],
   "source": [
    "df['Flavour'] = df['Flavour'].str.replace('\\d+','')\n",
    "df['Flavour'] = df['Flavour'].str.lower()\n",
    "\n",
    "df.head()"
   ]
  },
  {
   "cell_type": "code",
   "execution_count": 165,
   "id": "5fc7bbe3",
   "metadata": {},
   "outputs": [
    {
     "name": "stdout",
     "output_type": "stream",
     "text": [
      "['vanilla' 'chocolate' 'lemon' 'red velvet' 'carrot' ' vanilla  chocolate'\n",
      " ' red velvet  carrot  lemon' 'lemon carrot' 'lemon  carrot  vanilla'\n",
      " ' lemon  vanilla' 'red velvet  carrot  vanilla'\n",
      " 'chocolate  red velvet  carrot']\n"
     ]
    }
   ],
   "source": [
    "print(df['Flavour'].unique())"
   ]
  },
  {
   "cell_type": "markdown",
   "id": "c910aabd",
   "metadata": {},
   "source": [
    "**Making the red velvet flavour one word. Also good for visualising later**"
   ]
  },
  {
   "cell_type": "markdown",
   "id": "e2dab4cc",
   "metadata": {},
   "source": [
    "**Creating a new column as a count of flavours**"
   ]
  },
  {
   "cell_type": "code",
   "execution_count": 166,
   "id": "9bb3e395",
   "metadata": {},
   "outputs": [],
   "source": [
    "df['Flavour'] = df['Flavour'].str.replace('red velvet', 'red-velvet')\n",
    "\n",
    "\n",
    "df['Total Flavours'] = df['Flavour'].str.split().apply(len)\n"
   ]
  },
  {
   "cell_type": "code",
   "execution_count": 167,
   "id": "755f007c",
   "metadata": {},
   "outputs": [
    {
     "data": {
      "text/html": [
       "<div>\n",
       "<style scoped>\n",
       "    .dataframe tbody tr th:only-of-type {\n",
       "        vertical-align: middle;\n",
       "    }\n",
       "\n",
       "    .dataframe tbody tr th {\n",
       "        vertical-align: top;\n",
       "    }\n",
       "\n",
       "    .dataframe thead th {\n",
       "        text-align: right;\n",
       "    }\n",
       "</style>\n",
       "<table border=\"1\" class=\"dataframe\">\n",
       "  <thead>\n",
       "    <tr style=\"text-align: right;\">\n",
       "      <th></th>\n",
       "      <th>OCCASION</th>\n",
       "      <th>SIZE</th>\n",
       "      <th>Type</th>\n",
       "      <th>Theme</th>\n",
       "      <th>Icing</th>\n",
       "      <th>Flavour</th>\n",
       "      <th>Colour</th>\n",
       "      <th>Topping</th>\n",
       "      <th>PRICE</th>\n",
       "      <th>Collection Date</th>\n",
       "      <th>Cost</th>\n",
       "      <th>YEAR CELEBRATING</th>\n",
       "      <th>Total Flavours</th>\n",
       "    </tr>\n",
       "  </thead>\n",
       "  <tbody>\n",
       "    <tr>\n",
       "      <th>0</th>\n",
       "      <td>Birthday</td>\n",
       "      <td>15cm</td>\n",
       "      <td>Square</td>\n",
       "      <td>Princess</td>\n",
       "      <td>Fondant</td>\n",
       "      <td>vanilla</td>\n",
       "      <td>Pink</td>\n",
       "      <td>Baby Elephant</td>\n",
       "      <td>200.0</td>\n",
       "      <td>2023/01/26</td>\n",
       "      <td>103.0</td>\n",
       "      <td>1</td>\n",
       "      <td>1</td>\n",
       "    </tr>\n",
       "    <tr>\n",
       "      <th>1</th>\n",
       "      <td>Birthday</td>\n",
       "      <td>15cm</td>\n",
       "      <td>Round</td>\n",
       "      <td>None</td>\n",
       "      <td>Fondant</td>\n",
       "      <td>chocolate</td>\n",
       "      <td>Nude</td>\n",
       "      <td>Happy Birthday</td>\n",
       "      <td>200.0</td>\n",
       "      <td>2023/08/31</td>\n",
       "      <td>118.0</td>\n",
       "      <td>1</td>\n",
       "      <td>1</td>\n",
       "    </tr>\n",
       "    <tr>\n",
       "      <th>2</th>\n",
       "      <td>Birthday</td>\n",
       "      <td>15cm</td>\n",
       "      <td>Round</td>\n",
       "      <td>Princess</td>\n",
       "      <td>Fondant</td>\n",
       "      <td>chocolate</td>\n",
       "      <td>Pink</td>\n",
       "      <td>Happy 1st Birthday</td>\n",
       "      <td>200.0</td>\n",
       "      <td>2023/09/17</td>\n",
       "      <td>118.0</td>\n",
       "      <td>1</td>\n",
       "      <td>1</td>\n",
       "    </tr>\n",
       "    <tr>\n",
       "      <th>3</th>\n",
       "      <td>Birthday</td>\n",
       "      <td>15cm</td>\n",
       "      <td>Round</td>\n",
       "      <td>Princess</td>\n",
       "      <td>Fondant</td>\n",
       "      <td>lemon</td>\n",
       "      <td>Pink</td>\n",
       "      <td>Happy 1st Birthday</td>\n",
       "      <td>200.0</td>\n",
       "      <td>2023/09/30</td>\n",
       "      <td>142.0</td>\n",
       "      <td>1</td>\n",
       "      <td>1</td>\n",
       "    </tr>\n",
       "    <tr>\n",
       "      <th>4</th>\n",
       "      <td>Birthday</td>\n",
       "      <td>2step</td>\n",
       "      <td>1 Square 1 Round</td>\n",
       "      <td>None</td>\n",
       "      <td>Fondant</td>\n",
       "      <td>chocolate</td>\n",
       "      <td>Blue</td>\n",
       "      <td>One</td>\n",
       "      <td>600.0</td>\n",
       "      <td>2023/03/15</td>\n",
       "      <td>450.0</td>\n",
       "      <td>1</td>\n",
       "      <td>1</td>\n",
       "    </tr>\n",
       "  </tbody>\n",
       "</table>\n",
       "</div>"
      ],
      "text/plain": [
       "    OCCASION   SIZE              Type     Theme    Icing    Flavour Colour  \\\n",
       "0  Birthday    15cm            Square  Princess  Fondant    vanilla   Pink   \n",
       "1  Birthday    15cm             Round      None  Fondant  chocolate   Nude   \n",
       "2  Birthday    15cm             Round  Princess  Fondant  chocolate   Pink   \n",
       "3  Birthday    15cm             Round  Princess  Fondant      lemon   Pink   \n",
       "4  Birthday   2step  1 Square 1 Round      None  Fondant  chocolate   Blue   \n",
       "\n",
       "              Topping  PRICE Collection Date   Cost YEAR CELEBRATING  \\\n",
       "0       Baby Elephant  200.0      2023/01/26  103.0                1   \n",
       "1      Happy Birthday  200.0      2023/08/31  118.0                1   \n",
       "2  Happy 1st Birthday  200.0      2023/09/17  118.0                1   \n",
       "3  Happy 1st Birthday  200.0      2023/09/30  142.0                1   \n",
       "4                 One  600.0      2023/03/15  450.0                1   \n",
       "\n",
       "   Total Flavours  \n",
       "0               1  \n",
       "1               1  \n",
       "2               1  \n",
       "3               1  \n",
       "4               1  "
      ]
     },
     "execution_count": 167,
     "metadata": {},
     "output_type": "execute_result"
    }
   ],
   "source": [
    "df.head()"
   ]
  },
  {
   "cell_type": "code",
   "execution_count": 168,
   "id": "c6a99410",
   "metadata": {},
   "outputs": [
    {
     "name": "stdout",
     "output_type": "stream",
     "text": [
      "[1 2 3]\n"
     ]
    }
   ],
   "source": [
    "print(df['Total Flavours'].unique())"
   ]
  },
  {
   "cell_type": "markdown",
   "id": "f6cb871f",
   "metadata": {},
   "source": [
    "**Making the flavours to always appear in a certain order to create 'one flavour' even for more than one flavor cakes**"
   ]
  },
  {
   "cell_type": "code",
   "execution_count": 169,
   "id": "2e810575",
   "metadata": {},
   "outputs": [],
   "source": [
    "desired_order = ['vanilla','chocolate','red-velvet','carrot','lemon']\n",
    "\n",
    "def custom_order(text):\n",
    "    words = text.split()\n",
    "    sorted_w = sorted(words,key = lambda x: desired_order.index(x) if x in desired_order else float('inf'))\n",
    "    return ' '.join(sorted_w)\n",
    "\n",
    "df['Flavour'] = df['Flavour'].apply(custom_order)"
   ]
  },
  {
   "cell_type": "code",
   "execution_count": 170,
   "id": "22d13f38",
   "metadata": {},
   "outputs": [
    {
     "name": "stdout",
     "output_type": "stream",
     "text": [
      "     OCCASION   SIZE   Type Theme        Icing                      Flavour  \\\n",
      "57  Birthday   3step  Round  None  Buttercream      red-velvet carrot lemon   \n",
      "76    Wedding  5step  Round  None      Fondant         vanilla carrot lemon   \n",
      "80    Wedding  5step  Round  None      Fondant    vanilla red-velvet carrot   \n",
      "82    Wedding  5step  Round  None      Fondant  chocolate red-velvet carrot   \n",
      "\n",
      "   Colour         Topping   PRICE Collection Date    Cost YEAR CELEBRATING  \\\n",
      "57   Nude  Happy Birthday   700.0      2023/03/16   588.0               50   \n",
      "76  White          Couple  2000.0      2023/04/08  1004.0             None   \n",
      "80  White          Couple  2000.0      2023/09/24  1379.0             None   \n",
      "82  White          Couple  2000.0      2023/12/30  1413.0             None   \n",
      "\n",
      "    Total Flavours  \n",
      "57               3  \n",
      "76               3  \n",
      "80               3  \n",
      "82               3  \n"
     ]
    }
   ],
   "source": [
    "result = df[df['Total Flavours']==3].head()\n",
    "print(result)"
   ]
  },
  {
   "cell_type": "code",
   "execution_count": 171,
   "id": "70d4933e",
   "metadata": {},
   "outputs": [
    {
     "name": "stdout",
     "output_type": "stream",
     "text": [
      "['vanilla' 'chocolate' 'lemon' 'red-velvet' 'carrot' 'vanilla chocolate'\n",
      " 'red-velvet carrot lemon' 'carrot lemon' 'vanilla carrot lemon'\n",
      " 'vanilla lemon' 'vanilla red-velvet carrot' 'chocolate red-velvet carrot']\n"
     ]
    },
    {
     "data": {
      "text/html": [
       "<div>\n",
       "<style scoped>\n",
       "    .dataframe tbody tr th:only-of-type {\n",
       "        vertical-align: middle;\n",
       "    }\n",
       "\n",
       "    .dataframe tbody tr th {\n",
       "        vertical-align: top;\n",
       "    }\n",
       "\n",
       "    .dataframe thead th {\n",
       "        text-align: right;\n",
       "    }\n",
       "</style>\n",
       "<table border=\"1\" class=\"dataframe\">\n",
       "  <thead>\n",
       "    <tr style=\"text-align: right;\">\n",
       "      <th></th>\n",
       "      <th>OCCASION</th>\n",
       "      <th>SIZE</th>\n",
       "      <th>Type</th>\n",
       "      <th>Theme</th>\n",
       "      <th>Icing</th>\n",
       "      <th>Flavour</th>\n",
       "      <th>Colour</th>\n",
       "      <th>Topping</th>\n",
       "      <th>PRICE</th>\n",
       "      <th>Collection Date</th>\n",
       "      <th>Cost</th>\n",
       "      <th>YEAR CELEBRATING</th>\n",
       "      <th>Total Flavours</th>\n",
       "    </tr>\n",
       "  </thead>\n",
       "  <tbody>\n",
       "    <tr>\n",
       "      <th>0</th>\n",
       "      <td>Birthday</td>\n",
       "      <td>15cm</td>\n",
       "      <td>Square</td>\n",
       "      <td>Princess</td>\n",
       "      <td>Fondant</td>\n",
       "      <td>vanilla</td>\n",
       "      <td>Pink</td>\n",
       "      <td>Baby Elephant</td>\n",
       "      <td>200.0</td>\n",
       "      <td>2023/01/26</td>\n",
       "      <td>103.0</td>\n",
       "      <td>1</td>\n",
       "      <td>1</td>\n",
       "    </tr>\n",
       "    <tr>\n",
       "      <th>1</th>\n",
       "      <td>Birthday</td>\n",
       "      <td>15cm</td>\n",
       "      <td>Round</td>\n",
       "      <td>None</td>\n",
       "      <td>Fondant</td>\n",
       "      <td>chocolate</td>\n",
       "      <td>Nude</td>\n",
       "      <td>Happy Birthday</td>\n",
       "      <td>200.0</td>\n",
       "      <td>2023/08/31</td>\n",
       "      <td>118.0</td>\n",
       "      <td>1</td>\n",
       "      <td>1</td>\n",
       "    </tr>\n",
       "    <tr>\n",
       "      <th>2</th>\n",
       "      <td>Birthday</td>\n",
       "      <td>15cm</td>\n",
       "      <td>Round</td>\n",
       "      <td>Princess</td>\n",
       "      <td>Fondant</td>\n",
       "      <td>chocolate</td>\n",
       "      <td>Pink</td>\n",
       "      <td>Happy 1st Birthday</td>\n",
       "      <td>200.0</td>\n",
       "      <td>2023/09/17</td>\n",
       "      <td>118.0</td>\n",
       "      <td>1</td>\n",
       "      <td>1</td>\n",
       "    </tr>\n",
       "    <tr>\n",
       "      <th>3</th>\n",
       "      <td>Birthday</td>\n",
       "      <td>15cm</td>\n",
       "      <td>Round</td>\n",
       "      <td>Princess</td>\n",
       "      <td>Fondant</td>\n",
       "      <td>lemon</td>\n",
       "      <td>Pink</td>\n",
       "      <td>Happy 1st Birthday</td>\n",
       "      <td>200.0</td>\n",
       "      <td>2023/09/30</td>\n",
       "      <td>142.0</td>\n",
       "      <td>1</td>\n",
       "      <td>1</td>\n",
       "    </tr>\n",
       "    <tr>\n",
       "      <th>4</th>\n",
       "      <td>Birthday</td>\n",
       "      <td>2step</td>\n",
       "      <td>1 Square 1 Round</td>\n",
       "      <td>None</td>\n",
       "      <td>Fondant</td>\n",
       "      <td>chocolate</td>\n",
       "      <td>Blue</td>\n",
       "      <td>One</td>\n",
       "      <td>600.0</td>\n",
       "      <td>2023/03/15</td>\n",
       "      <td>450.0</td>\n",
       "      <td>1</td>\n",
       "      <td>1</td>\n",
       "    </tr>\n",
       "  </tbody>\n",
       "</table>\n",
       "</div>"
      ],
      "text/plain": [
       "    OCCASION   SIZE              Type     Theme    Icing    Flavour Colour  \\\n",
       "0  Birthday    15cm            Square  Princess  Fondant    vanilla   Pink   \n",
       "1  Birthday    15cm             Round      None  Fondant  chocolate   Nude   \n",
       "2  Birthday    15cm             Round  Princess  Fondant  chocolate   Pink   \n",
       "3  Birthday    15cm             Round  Princess  Fondant      lemon   Pink   \n",
       "4  Birthday   2step  1 Square 1 Round      None  Fondant  chocolate   Blue   \n",
       "\n",
       "              Topping  PRICE Collection Date   Cost YEAR CELEBRATING  \\\n",
       "0       Baby Elephant  200.0      2023/01/26  103.0                1   \n",
       "1      Happy Birthday  200.0      2023/08/31  118.0                1   \n",
       "2  Happy 1st Birthday  200.0      2023/09/17  118.0                1   \n",
       "3  Happy 1st Birthday  200.0      2023/09/30  142.0                1   \n",
       "4                 One  600.0      2023/03/15  450.0                1   \n",
       "\n",
       "   Total Flavours  \n",
       "0               1  \n",
       "1               1  \n",
       "2               1  \n",
       "3               1  \n",
       "4               1  "
      ]
     },
     "execution_count": 171,
     "metadata": {},
     "output_type": "execute_result"
    }
   ],
   "source": [
    "print(df['Flavour'].unique())\n",
    "df.head()"
   ]
  },
  {
   "cell_type": "markdown",
   "id": "8087cf51",
   "metadata": {},
   "source": [
    "# **The Colour Column**"
   ]
  },
  {
   "cell_type": "code",
   "execution_count": 172,
   "id": "43fd772c",
   "metadata": {},
   "outputs": [
    {
     "name": "stdout",
     "output_type": "stream",
     "text": [
      "['Pink' 'Nude' 'Blue' 'Red' 'Purple' 'Yellow' 'Black' 'Gold' 'White'\n",
      " 'Green' 'Brown']\n"
     ]
    }
   ],
   "source": [
    "print(df['Colour'].unique())"
   ]
  },
  {
   "cell_type": "markdown",
   "id": "f69ae8d5",
   "metadata": {},
   "source": [
    "# **The Topping Column**"
   ]
  },
  {
   "cell_type": "code",
   "execution_count": 173,
   "id": "7113f41a",
   "metadata": {},
   "outputs": [
    {
     "name": "stdout",
     "output_type": "stream",
     "text": [
      "['Baby Elephant' 'Happy Birthday' 'Happy 1st Birthday' 'One' 'Piglet'\n",
      " 'Mickey Mouse' 'Rainbow' 'Baby Shoes' 'Tummy' 'Oh Baby' 'Baby Feet'\n",
      " 'Congratulations' 'Books' 'Pencils' 'Hat' 'None' 'Couple']\n"
     ]
    }
   ],
   "source": [
    "print(df['Topping'].unique())"
   ]
  },
  {
   "cell_type": "markdown",
   "id": "855ff891",
   "metadata": {},
   "source": [
    "# **The Price Column**"
   ]
  },
  {
   "cell_type": "code",
   "execution_count": 174,
   "id": "c3682ffc",
   "metadata": {},
   "outputs": [
    {
     "data": {
      "text/plain": [
       "count      83.000000\n",
       "mean      478.915663\n",
       "std       479.654378\n",
       "min       200.000000\n",
       "25%       250.000000\n",
       "50%       300.000000\n",
       "75%       350.000000\n",
       "max      2000.000000\n",
       "Name: PRICE, dtype: float64"
      ]
     },
     "execution_count": 174,
     "metadata": {},
     "output_type": "execute_result"
    }
   ],
   "source": [
    "df.PRICE.describe()"
   ]
  },
  {
   "cell_type": "code",
   "execution_count": 175,
   "id": "75ac3ddd",
   "metadata": {},
   "outputs": [
    {
     "data": {
      "image/png": "[encoded data removed]",
      "text/plain": [
       "<Figure size 1000x1000 with 6 Axes>"
      ]
     },
     "metadata": {},
     "output_type": "display_data"
    }
   ],
   "source": [
    "df['PRICE'].plot(kind='density', subplots=True, layout=(3, 2), sharex=False, figsize=(10, 10));"
   ]
  },
  {
   "cell_type": "markdown",
   "id": "e16589a4",
   "metadata": {},
   "source": [
    "# **The Collection Date Column**"
   ]
  },
  {
   "cell_type": "code",
   "execution_count": 176,
   "id": "a16e5550",
   "metadata": {},
   "outputs": [],
   "source": [
    "df['Collection Date'] = pd.to_datetime(df['Collection Date'])\n",
    "df['Month'] = df['Collection Date'].dt.month_name()"
   ]
  },
  {
   "cell_type": "code",
   "execution_count": 177,
   "id": "7d25ef35",
   "metadata": {},
   "outputs": [
    {
     "data": {
      "text/html": [
       "<div>\n",
       "<style scoped>\n",
       "    .dataframe tbody tr th:only-of-type {\n",
       "        vertical-align: middle;\n",
       "    }\n",
       "\n",
       "    .dataframe tbody tr th {\n",
       "        vertical-align: top;\n",
       "    }\n",
       "\n",
       "    .dataframe thead th {\n",
       "        text-align: right;\n",
       "    }\n",
       "</style>\n",
       "<table border=\"1\" class=\"dataframe\">\n",
       "  <thead>\n",
       "    <tr style=\"text-align: right;\">\n",
       "      <th></th>\n",
       "      <th>OCCASION</th>\n",
       "      <th>SIZE</th>\n",
       "      <th>Type</th>\n",
       "      <th>Theme</th>\n",
       "      <th>Icing</th>\n",
       "      <th>Flavour</th>\n",
       "      <th>Colour</th>\n",
       "      <th>Topping</th>\n",
       "      <th>PRICE</th>\n",
       "      <th>Collection Date</th>\n",
       "      <th>Cost</th>\n",
       "      <th>YEAR CELEBRATING</th>\n",
       "      <th>Total Flavours</th>\n",
       "      <th>Month</th>\n",
       "    </tr>\n",
       "  </thead>\n",
       "  <tbody>\n",
       "    <tr>\n",
       "      <th>0</th>\n",
       "      <td>Birthday</td>\n",
       "      <td>15cm</td>\n",
       "      <td>Square</td>\n",
       "      <td>Princess</td>\n",
       "      <td>Fondant</td>\n",
       "      <td>vanilla</td>\n",
       "      <td>Pink</td>\n",
       "      <td>Baby Elephant</td>\n",
       "      <td>200.0</td>\n",
       "      <td>2023-01-26</td>\n",
       "      <td>103.0</td>\n",
       "      <td>1</td>\n",
       "      <td>1</td>\n",
       "      <td>January</td>\n",
       "    </tr>\n",
       "    <tr>\n",
       "      <th>1</th>\n",
       "      <td>Birthday</td>\n",
       "      <td>15cm</td>\n",
       "      <td>Round</td>\n",
       "      <td>None</td>\n",
       "      <td>Fondant</td>\n",
       "      <td>chocolate</td>\n",
       "      <td>Nude</td>\n",
       "      <td>Happy Birthday</td>\n",
       "      <td>200.0</td>\n",
       "      <td>2023-08-31</td>\n",
       "      <td>118.0</td>\n",
       "      <td>1</td>\n",
       "      <td>1</td>\n",
       "      <td>August</td>\n",
       "    </tr>\n",
       "    <tr>\n",
       "      <th>2</th>\n",
       "      <td>Birthday</td>\n",
       "      <td>15cm</td>\n",
       "      <td>Round</td>\n",
       "      <td>Princess</td>\n",
       "      <td>Fondant</td>\n",
       "      <td>chocolate</td>\n",
       "      <td>Pink</td>\n",
       "      <td>Happy 1st Birthday</td>\n",
       "      <td>200.0</td>\n",
       "      <td>2023-09-17</td>\n",
       "      <td>118.0</td>\n",
       "      <td>1</td>\n",
       "      <td>1</td>\n",
       "      <td>September</td>\n",
       "    </tr>\n",
       "    <tr>\n",
       "      <th>3</th>\n",
       "      <td>Birthday</td>\n",
       "      <td>15cm</td>\n",
       "      <td>Round</td>\n",
       "      <td>Princess</td>\n",
       "      <td>Fondant</td>\n",
       "      <td>lemon</td>\n",
       "      <td>Pink</td>\n",
       "      <td>Happy 1st Birthday</td>\n",
       "      <td>200.0</td>\n",
       "      <td>2023-09-30</td>\n",
       "      <td>142.0</td>\n",
       "      <td>1</td>\n",
       "      <td>1</td>\n",
       "      <td>September</td>\n",
       "    </tr>\n",
       "    <tr>\n",
       "      <th>4</th>\n",
       "      <td>Birthday</td>\n",
       "      <td>2step</td>\n",
       "      <td>1 Square 1 Round</td>\n",
       "      <td>None</td>\n",
       "      <td>Fondant</td>\n",
       "      <td>chocolate</td>\n",
       "      <td>Blue</td>\n",
       "      <td>One</td>\n",
       "      <td>600.0</td>\n",
       "      <td>2023-03-15</td>\n",
       "      <td>450.0</td>\n",
       "      <td>1</td>\n",
       "      <td>1</td>\n",
       "      <td>March</td>\n",
       "    </tr>\n",
       "  </tbody>\n",
       "</table>\n",
       "</div>"
      ],
      "text/plain": [
       "    OCCASION   SIZE              Type     Theme    Icing    Flavour Colour  \\\n",
       "0  Birthday    15cm            Square  Princess  Fondant    vanilla   Pink   \n",
       "1  Birthday    15cm             Round      None  Fondant  chocolate   Nude   \n",
       "2  Birthday    15cm             Round  Princess  Fondant  chocolate   Pink   \n",
       "3  Birthday    15cm             Round  Princess  Fondant      lemon   Pink   \n",
       "4  Birthday   2step  1 Square 1 Round      None  Fondant  chocolate   Blue   \n",
       "\n",
       "              Topping  PRICE Collection Date   Cost YEAR CELEBRATING  \\\n",
       "0       Baby Elephant  200.0      2023-01-26  103.0                1   \n",
       "1      Happy Birthday  200.0      2023-08-31  118.0                1   \n",
       "2  Happy 1st Birthday  200.0      2023-09-17  118.0                1   \n",
       "3  Happy 1st Birthday  200.0      2023-09-30  142.0                1   \n",
       "4                 One  600.0      2023-03-15  450.0                1   \n",
       "\n",
       "   Total Flavours      Month  \n",
       "0               1    January  \n",
       "1               1     August  \n",
       "2               1  September  \n",
       "3               1  September  \n",
       "4               1      March  "
      ]
     },
     "execution_count": 177,
     "metadata": {},
     "output_type": "execute_result"
    }
   ],
   "source": [
    "df.head()"
   ]
  },
  {
   "cell_type": "markdown",
   "id": "30cb5bd9",
   "metadata": {},
   "source": [
    "# **Cost Column**"
   ]
  },
  {
   "cell_type": "code",
   "execution_count": 178,
   "id": "fd41a2b8",
   "metadata": {},
   "outputs": [
    {
     "data": {
      "text/plain": [
       "count      83.000000\n",
       "mean      343.120482\n",
       "std       316.938880\n",
       "min       103.000000\n",
       "25%       183.000000\n",
       "50%       235.000000\n",
       "75%       296.500000\n",
       "max      1484.000000\n",
       "Name: Cost, dtype: float64"
      ]
     },
     "execution_count": 178,
     "metadata": {},
     "output_type": "execute_result"
    }
   ],
   "source": [
    "df.Cost.describe()"
   ]
  },
  {
   "cell_type": "code",
   "execution_count": 179,
   "id": "d28f6cf9",
   "metadata": {},
   "outputs": [
    {
     "data": {
      "image/png": "[encoded data removed]",
      "text/plain": [
       "<Figure size 1000x1000 with 6 Axes>"
      ]
     },
     "metadata": {},
     "output_type": "display_data"
    }
   ],
   "source": [
    "df['Cost'].plot(kind='density', subplots=True, layout=(3, 2), sharex=False, figsize=(10, 10));"
   ]
  },
  {
   "cell_type": "code",
   "execution_count": 180,
   "id": "cbf019b5",
   "metadata": {},
   "outputs": [
    {
     "data": {
      "image/png": "[encoded data removed]",
      "text/plain": [
       "<Figure size 640x480 with 1 Axes>"
      ]
     },
     "metadata": {},
     "output_type": "display_data"
    }
   ],
   "source": [
    "\n",
    "column_name = 'Cost'\n",
    "\n",
    "\n",
    "plt.hist(df[column_name], bins=6, edgecolor='black')\n",
    "\n",
    "\n",
    "plt.xlabel(column_name)\n",
    "plt.ylabel('Frequency')\n",
    "plt.title(f'Histogram of {column_name}')\n",
    "\n",
    "\n",
    "plt.show()"
   ]
  },
  {
   "cell_type": "code",
   "execution_count": 181,
   "id": "3a7e6c4f",
   "metadata": {},
   "outputs": [],
   "source": [
    "bin_edges = [0, 150, 300, 450,600,750,900,2000] \n",
    "bin_labels = ['0-150', '150-300', '300-450','450-600','600-750','750-900','>900'] \n",
    "\n",
    "df['Cost Range'] = pd.cut(df['Cost'], bins=bin_edges, labels=bin_labels)"
   ]
  },
  {
   "cell_type": "code",
   "execution_count": 182,
   "id": "41f7a6f2",
   "metadata": {},
   "outputs": [
    {
     "data": {
      "text/html": [
       "<div>\n",
       "<style scoped>\n",
       "    .dataframe tbody tr th:only-of-type {\n",
       "        vertical-align: middle;\n",
       "    }\n",
       "\n",
       "    .dataframe tbody tr th {\n",
       "        vertical-align: top;\n",
       "    }\n",
       "\n",
       "    .dataframe thead th {\n",
       "        text-align: right;\n",
       "    }\n",
       "</style>\n",
       "<table border=\"1\" class=\"dataframe\">\n",
       "  <thead>\n",
       "    <tr style=\"text-align: right;\">\n",
       "      <th></th>\n",
       "      <th>OCCASION</th>\n",
       "      <th>SIZE</th>\n",
       "      <th>Type</th>\n",
       "      <th>Theme</th>\n",
       "      <th>Icing</th>\n",
       "      <th>Flavour</th>\n",
       "      <th>Colour</th>\n",
       "      <th>Topping</th>\n",
       "      <th>PRICE</th>\n",
       "      <th>Collection Date</th>\n",
       "      <th>Cost</th>\n",
       "      <th>YEAR CELEBRATING</th>\n",
       "      <th>Total Flavours</th>\n",
       "      <th>Month</th>\n",
       "      <th>Cost Range</th>\n",
       "    </tr>\n",
       "  </thead>\n",
       "  <tbody>\n",
       "    <tr>\n",
       "      <th>0</th>\n",
       "      <td>Birthday</td>\n",
       "      <td>15cm</td>\n",
       "      <td>Square</td>\n",
       "      <td>Princess</td>\n",
       "      <td>Fondant</td>\n",
       "      <td>vanilla</td>\n",
       "      <td>Pink</td>\n",
       "      <td>Baby Elephant</td>\n",
       "      <td>200.0</td>\n",
       "      <td>2023-01-26</td>\n",
       "      <td>103.0</td>\n",
       "      <td>1</td>\n",
       "      <td>1</td>\n",
       "      <td>January</td>\n",
       "      <td>0-150</td>\n",
       "    </tr>\n",
       "    <tr>\n",
       "      <th>1</th>\n",
       "      <td>Birthday</td>\n",
       "      <td>15cm</td>\n",
       "      <td>Round</td>\n",
       "      <td>None</td>\n",
       "      <td>Fondant</td>\n",
       "      <td>chocolate</td>\n",
       "      <td>Nude</td>\n",
       "      <td>Happy Birthday</td>\n",
       "      <td>200.0</td>\n",
       "      <td>2023-08-31</td>\n",
       "      <td>118.0</td>\n",
       "      <td>1</td>\n",
       "      <td>1</td>\n",
       "      <td>August</td>\n",
       "      <td>0-150</td>\n",
       "    </tr>\n",
       "    <tr>\n",
       "      <th>2</th>\n",
       "      <td>Birthday</td>\n",
       "      <td>15cm</td>\n",
       "      <td>Round</td>\n",
       "      <td>Princess</td>\n",
       "      <td>Fondant</td>\n",
       "      <td>chocolate</td>\n",
       "      <td>Pink</td>\n",
       "      <td>Happy 1st Birthday</td>\n",
       "      <td>200.0</td>\n",
       "      <td>2023-09-17</td>\n",
       "      <td>118.0</td>\n",
       "      <td>1</td>\n",
       "      <td>1</td>\n",
       "      <td>September</td>\n",
       "      <td>0-150</td>\n",
       "    </tr>\n",
       "    <tr>\n",
       "      <th>3</th>\n",
       "      <td>Birthday</td>\n",
       "      <td>15cm</td>\n",
       "      <td>Round</td>\n",
       "      <td>Princess</td>\n",
       "      <td>Fondant</td>\n",
       "      <td>lemon</td>\n",
       "      <td>Pink</td>\n",
       "      <td>Happy 1st Birthday</td>\n",
       "      <td>200.0</td>\n",
       "      <td>2023-09-30</td>\n",
       "      <td>142.0</td>\n",
       "      <td>1</td>\n",
       "      <td>1</td>\n",
       "      <td>September</td>\n",
       "      <td>0-150</td>\n",
       "    </tr>\n",
       "    <tr>\n",
       "      <th>4</th>\n",
       "      <td>Birthday</td>\n",
       "      <td>2step</td>\n",
       "      <td>1 Square 1 Round</td>\n",
       "      <td>None</td>\n",
       "      <td>Fondant</td>\n",
       "      <td>chocolate</td>\n",
       "      <td>Blue</td>\n",
       "      <td>One</td>\n",
       "      <td>600.0</td>\n",
       "      <td>2023-03-15</td>\n",
       "      <td>450.0</td>\n",
       "      <td>1</td>\n",
       "      <td>1</td>\n",
       "      <td>March</td>\n",
       "      <td>300-450</td>\n",
       "    </tr>\n",
       "  </tbody>\n",
       "</table>\n",
       "</div>"
      ],
      "text/plain": [
       "    OCCASION   SIZE              Type     Theme    Icing    Flavour Colour  \\\n",
       "0  Birthday    15cm            Square  Princess  Fondant    vanilla   Pink   \n",
       "1  Birthday    15cm             Round      None  Fondant  chocolate   Nude   \n",
       "2  Birthday    15cm             Round  Princess  Fondant  chocolate   Pink   \n",
       "3  Birthday    15cm             Round  Princess  Fondant      lemon   Pink   \n",
       "4  Birthday   2step  1 Square 1 Round      None  Fondant  chocolate   Blue   \n",
       "\n",
       "              Topping  PRICE Collection Date   Cost YEAR CELEBRATING  \\\n",
       "0       Baby Elephant  200.0      2023-01-26  103.0                1   \n",
       "1      Happy Birthday  200.0      2023-08-31  118.0                1   \n",
       "2  Happy 1st Birthday  200.0      2023-09-17  118.0                1   \n",
       "3  Happy 1st Birthday  200.0      2023-09-30  142.0                1   \n",
       "4                 One  600.0      2023-03-15  450.0                1   \n",
       "\n",
       "   Total Flavours      Month Cost Range  \n",
       "0               1    January      0-150  \n",
       "1               1     August      0-150  \n",
       "2               1  September      0-150  \n",
       "3               1  September      0-150  \n",
       "4               1      March    300-450  "
      ]
     },
     "execution_count": 182,
     "metadata": {},
     "output_type": "execute_result"
    }
   ],
   "source": [
    "df.head()"
   ]
  },
  {
   "cell_type": "code",
   "execution_count": 183,
   "id": "aaa11319",
   "metadata": {},
   "outputs": [],
   "source": [
    "df_new = df"
   ]
  },
  {
   "cell_type": "code",
   "execution_count": 184,
   "id": "be97824f",
   "metadata": {},
   "outputs": [
    {
     "data": {
      "text/html": [
       "<div>\n",
       "<style scoped>\n",
       "    .dataframe tbody tr th:only-of-type {\n",
       "        vertical-align: middle;\n",
       "    }\n",
       "\n",
       "    .dataframe tbody tr th {\n",
       "        vertical-align: top;\n",
       "    }\n",
       "\n",
       "    .dataframe thead th {\n",
       "        text-align: right;\n",
       "    }\n",
       "</style>\n",
       "<table border=\"1\" class=\"dataframe\">\n",
       "  <thead>\n",
       "    <tr style=\"text-align: right;\">\n",
       "      <th></th>\n",
       "      <th>OCCASION</th>\n",
       "      <th>SIZE</th>\n",
       "      <th>Type</th>\n",
       "      <th>Theme</th>\n",
       "      <th>Icing</th>\n",
       "      <th>Flavour</th>\n",
       "      <th>Colour</th>\n",
       "      <th>Topping</th>\n",
       "      <th>PRICE</th>\n",
       "      <th>Collection Date</th>\n",
       "      <th>Cost</th>\n",
       "      <th>YEAR CELEBRATING</th>\n",
       "      <th>Total Flavours</th>\n",
       "      <th>Month</th>\n",
       "      <th>Cost Range</th>\n",
       "    </tr>\n",
       "  </thead>\n",
       "  <tbody>\n",
       "    <tr>\n",
       "      <th>0</th>\n",
       "      <td>Birthday</td>\n",
       "      <td>15cm</td>\n",
       "      <td>Square</td>\n",
       "      <td>Princess</td>\n",
       "      <td>Fondant</td>\n",
       "      <td>vanilla</td>\n",
       "      <td>Pink</td>\n",
       "      <td>Baby Elephant</td>\n",
       "      <td>200.0</td>\n",
       "      <td>2023-01-26</td>\n",
       "      <td>103.0</td>\n",
       "      <td>1</td>\n",
       "      <td>1</td>\n",
       "      <td>January</td>\n",
       "      <td>0-150</td>\n",
       "    </tr>\n",
       "    <tr>\n",
       "      <th>1</th>\n",
       "      <td>Birthday</td>\n",
       "      <td>15cm</td>\n",
       "      <td>Round</td>\n",
       "      <td>None</td>\n",
       "      <td>Fondant</td>\n",
       "      <td>chocolate</td>\n",
       "      <td>Nude</td>\n",
       "      <td>Happy Birthday</td>\n",
       "      <td>200.0</td>\n",
       "      <td>2023-08-31</td>\n",
       "      <td>118.0</td>\n",
       "      <td>1</td>\n",
       "      <td>1</td>\n",
       "      <td>August</td>\n",
       "      <td>0-150</td>\n",
       "    </tr>\n",
       "    <tr>\n",
       "      <th>2</th>\n",
       "      <td>Birthday</td>\n",
       "      <td>15cm</td>\n",
       "      <td>Round</td>\n",
       "      <td>Princess</td>\n",
       "      <td>Fondant</td>\n",
       "      <td>chocolate</td>\n",
       "      <td>Pink</td>\n",
       "      <td>Happy 1st Birthday</td>\n",
       "      <td>200.0</td>\n",
       "      <td>2023-09-17</td>\n",
       "      <td>118.0</td>\n",
       "      <td>1</td>\n",
       "      <td>1</td>\n",
       "      <td>September</td>\n",
       "      <td>0-150</td>\n",
       "    </tr>\n",
       "    <tr>\n",
       "      <th>3</th>\n",
       "      <td>Birthday</td>\n",
       "      <td>15cm</td>\n",
       "      <td>Round</td>\n",
       "      <td>Princess</td>\n",
       "      <td>Fondant</td>\n",
       "      <td>lemon</td>\n",
       "      <td>Pink</td>\n",
       "      <td>Happy 1st Birthday</td>\n",
       "      <td>200.0</td>\n",
       "      <td>2023-09-30</td>\n",
       "      <td>142.0</td>\n",
       "      <td>1</td>\n",
       "      <td>1</td>\n",
       "      <td>September</td>\n",
       "      <td>0-150</td>\n",
       "    </tr>\n",
       "    <tr>\n",
       "      <th>4</th>\n",
       "      <td>Birthday</td>\n",
       "      <td>2step</td>\n",
       "      <td>1 Square 1 Round</td>\n",
       "      <td>None</td>\n",
       "      <td>Fondant</td>\n",
       "      <td>chocolate</td>\n",
       "      <td>Blue</td>\n",
       "      <td>One</td>\n",
       "      <td>600.0</td>\n",
       "      <td>2023-03-15</td>\n",
       "      <td>450.0</td>\n",
       "      <td>1</td>\n",
       "      <td>1</td>\n",
       "      <td>March</td>\n",
       "      <td>300-450</td>\n",
       "    </tr>\n",
       "  </tbody>\n",
       "</table>\n",
       "</div>"
      ],
      "text/plain": [
       "    OCCASION   SIZE              Type     Theme    Icing    Flavour Colour  \\\n",
       "0  Birthday    15cm            Square  Princess  Fondant    vanilla   Pink   \n",
       "1  Birthday    15cm             Round      None  Fondant  chocolate   Nude   \n",
       "2  Birthday    15cm             Round  Princess  Fondant  chocolate   Pink   \n",
       "3  Birthday    15cm             Round  Princess  Fondant      lemon   Pink   \n",
       "4  Birthday   2step  1 Square 1 Round      None  Fondant  chocolate   Blue   \n",
       "\n",
       "              Topping  PRICE Collection Date   Cost YEAR CELEBRATING  \\\n",
       "0       Baby Elephant  200.0      2023-01-26  103.0                1   \n",
       "1      Happy Birthday  200.0      2023-08-31  118.0                1   \n",
       "2  Happy 1st Birthday  200.0      2023-09-17  118.0                1   \n",
       "3  Happy 1st Birthday  200.0      2023-09-30  142.0                1   \n",
       "4                 One  600.0      2023-03-15  450.0                1   \n",
       "\n",
       "   Total Flavours      Month Cost Range  \n",
       "0               1    January      0-150  \n",
       "1               1     August      0-150  \n",
       "2               1  September      0-150  \n",
       "3               1  September      0-150  \n",
       "4               1      March    300-450  "
      ]
     },
     "execution_count": 184,
     "metadata": {},
     "output_type": "execute_result"
    }
   ],
   "source": [
    "df_new.head()"
   ]
  },
  {
   "cell_type": "code",
   "execution_count": 185,
   "id": "8fb57339",
   "metadata": {},
   "outputs": [],
   "source": [
    "df_new.to_csv('Advanced Baking Data.csv')"
   ]
  },
  {
   "cell_type": "code",
   "execution_count": null,
   "id": "0a4d7835",
   "metadata": {},
   "outputs": [],
   "source": []
  }
 ],
 "metadata": {
  "kernelspec": {
   "display_name": "Python 3 (ipykernel)",
   "language": "python",
   "name": "python3"
  },
  "language_info": {
   "codemirror_mode": {
    "name": "ipython",
    "version": 3
   },
   "file_extension": ".py",
   "mimetype": "text/x-python",
   "name": "python",
   "nbconvert_exporter": "python",
   "pygments_lexer": "ipython3",
   "version": "3.9.13"
  }
 },
 "nbformat": 4,
 "nbformat_minor": 5
}
